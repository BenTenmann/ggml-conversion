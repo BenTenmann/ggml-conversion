{
 "cells": [
  {
   "cell_type": "code",
   "execution_count": 1,
   "metadata": {
    "collapsed": true,
    "ExecuteTime": {
     "end_time": "2023-06-17T10:56:33.053244Z",
     "start_time": "2023-06-17T10:56:31.727921Z"
    }
   },
   "outputs": [],
   "source": [
    "import onnx\n",
    "import torch\n",
    "import torch.onnx"
   ]
  },
  {
   "cell_type": "code",
   "execution_count": 2,
   "outputs": [],
   "source": [
    "class AddConst(torch.nn.Module):\n",
    "    def __init__(self):\n",
    "        super().__init__()\n",
    "        self.w = 5\n",
    "\n",
    "    def forward(self, x):\n",
    "        return x + self.w\n"
   ],
   "metadata": {
    "collapsed": false,
    "ExecuteTime": {
     "end_time": "2023-06-17T10:56:35.359645Z",
     "start_time": "2023-06-17T10:56:35.356725Z"
    }
   }
  },
  {
   "cell_type": "code",
   "execution_count": 3,
   "outputs": [
    {
     "name": "stdout",
     "output_type": "stream",
     "text": [
      "Exported graph: graph(%onnx::Add_0 : Float(3, 4, strides=[4, 1], requires_grad=0, device=cpu)):\n",
      "  %/Constant_output_0 : Float(requires_grad=0, device=cpu) = onnx::Constant[value={5}, onnx_name=\"/Constant\"](), scope: __main__.AddConst:: # /var/folders/vw/rrzy8ptj6k10mvc6tf4170gw0000gq/T/ipykernel_45008/2842780031.py:7:0\n",
      "  %2 : Float(3, 4, strides=[4, 1], requires_grad=0, device=cpu) = onnx::Add[onnx_name=\"/Add\"](%onnx::Add_0, %/Constant_output_0), scope: __main__.AddConst:: # /var/folders/vw/rrzy8ptj6k10mvc6tf4170gw0000gq/T/ipykernel_45008/2842780031.py:7:0\n",
      "  return (%2)\n",
      "\n",
      "================ Diagnostic Run torch.onnx.export version 2.0.1 ================\n",
      "verbose: False, log level: Level.ERROR\n",
      "======================= 0 NONE 0 NOTE 0 WARNING 0 ERROR ========================\n",
      "\n"
     ]
    }
   ],
   "source": [
    "model = AddConst()\n",
    "x = torch.randn(3, 4)\n",
    "torch.onnx.export(model, x, \"add_const.onnx\", verbose=True)"
   ],
   "metadata": {
    "collapsed": false,
    "ExecuteTime": {
     "end_time": "2023-06-17T10:56:50.414251Z",
     "start_time": "2023-06-17T10:56:50.386542Z"
    }
   }
  },
  {
   "cell_type": "code",
   "execution_count": 7,
   "outputs": [
    {
     "data": {
      "text/plain": "2"
     },
     "execution_count": 7,
     "metadata": {},
     "output_type": "execute_result"
    }
   ],
   "source": [
    "net = onnx.load(\"add_const.onnx\")\n",
    "len(net.graph.node)"
   ],
   "metadata": {
    "collapsed": false,
    "ExecuteTime": {
     "end_time": "2023-06-17T10:57:53.248419Z",
     "start_time": "2023-06-17T10:57:53.244430Z"
    }
   }
  },
  {
   "cell_type": "code",
   "execution_count": 30,
   "outputs": [],
   "source": [
    "import numpy as np"
   ],
   "metadata": {
    "collapsed": false,
    "ExecuteTime": {
     "end_time": "2023-06-17T11:03:54.047442Z",
     "start_time": "2023-06-17T11:03:54.042749Z"
    }
   }
  },
  {
   "cell_type": "code",
   "execution_count": 31,
   "outputs": [
    {
     "data": {
      "text/plain": "array([5.], dtype=float32)"
     },
     "execution_count": 31,
     "metadata": {},
     "output_type": "execute_result"
    }
   ],
   "source": [
    "np.frombuffer(net.graph.node[0].attribute[0].t.raw_data, dtype=np.float32)"
   ],
   "metadata": {
    "collapsed": false,
    "ExecuteTime": {
     "end_time": "2023-06-17T11:04:03.695024Z",
     "start_time": "2023-06-17T11:04:03.692195Z"
    }
   }
  }
 ],
 "metadata": {
  "kernelspec": {
   "display_name": "Python 3",
   "language": "python",
   "name": "python3"
  },
  "language_info": {
   "codemirror_mode": {
    "name": "ipython",
    "version": 2
   },
   "file_extension": ".py",
   "mimetype": "text/x-python",
   "name": "python",
   "nbconvert_exporter": "python",
   "pygments_lexer": "ipython2",
   "version": "2.7.6"
  }
 },
 "nbformat": 4,
 "nbformat_minor": 0
}
