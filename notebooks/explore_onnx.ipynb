{
 "cells": [
  {
   "cell_type": "code",
   "execution_count": 1,
   "metadata": {
    "collapsed": true,
    "ExecuteTime": {
     "end_time": "2023-06-17T10:56:33.053244Z",
     "start_time": "2023-06-17T10:56:31.727921Z"
    }
   },
   "outputs": [],
   "source": [
    "import onnx\n",
    "import torch\n",
    "import torch.onnx"
   ]
  },
  {
   "cell_type": "code",
   "execution_count": 77,
   "outputs": [],
   "source": [
    "class AddConst(torch.nn.Module):\n",
    "    def __init__(self):\n",
    "        super().__init__()\n",
    "        self.w = 5\n",
    "        self.b = torch.nn.Linear(4, 4)\n",
    "        self.o = torch.tensor([1, 2, 3, 4], dtype=torch.float32)\n",
    "\n",
    "    def forward(self, x):\n",
    "        return self.b(x) + self.w + self.o\n"
   ],
   "metadata": {
    "collapsed": false,
    "ExecuteTime": {
     "end_time": "2023-06-17T14:25:32.582571Z",
     "start_time": "2023-06-17T14:25:32.576983Z"
    }
   }
  },
  {
   "cell_type": "code",
   "execution_count": 78,
   "outputs": [
    {
     "name": "stdout",
     "output_type": "stream",
     "text": [
      "Exported graph: graph(%onnx::Gemm_0 : Float(3, 4, strides=[4, 1], requires_grad=0, device=cpu),\n",
      "      %b.weight : Float(4, 4, strides=[4, 1], requires_grad=1, device=cpu),\n",
      "      %b.bias : Float(4, strides=[1], requires_grad=1, device=cpu)):\n",
      "  %/b/Gemm_output_0 : Float(3, 4, strides=[4, 1], requires_grad=1, device=cpu) = onnx::Gemm[alpha=1., beta=1., transB=1, onnx_name=\"/b/Gemm\"](%onnx::Gemm_0, %b.weight, %b.bias), scope: __main__.AddConst::/torch.nn.modules.linear.Linear::b # /Users/benjamintenmann/Library/Caches/pypoetry/virtualenvs/ggml-conversion-fEb3rMr2-py3.11/lib/python3.11/site-packages/torch/nn/modules/linear.py:114:0\n",
      "  %/Constant_output_0 : Float(requires_grad=0, device=cpu) = onnx::Constant[value={5}, onnx_name=\"/Constant\"](), scope: __main__.AddConst:: # /var/folders/vw/rrzy8ptj6k10mvc6tf4170gw0000gq/T/ipykernel_45008/2052299685.py:9:0\n",
      "  %/Add_output_0 : Float(3, 4, strides=[4, 1], requires_grad=1, device=cpu) = onnx::Add[onnx_name=\"/Add\"](%/b/Gemm_output_0, %/Constant_output_0), scope: __main__.AddConst:: # /var/folders/vw/rrzy8ptj6k10mvc6tf4170gw0000gq/T/ipykernel_45008/2052299685.py:9:0\n",
      "  %/Constant_1_output_0 : Float(4, strides=[1], requires_grad=0, device=cpu) = onnx::Constant[value= 1  2  3  4 [ CPUFloatType{4} ], onnx_name=\"/Constant_1\"](), scope: __main__.AddConst:: # /var/folders/vw/rrzy8ptj6k10mvc6tf4170gw0000gq/T/ipykernel_45008/2052299685.py:9:0\n",
      "  %7 : Float(3, 4, strides=[4, 1], requires_grad=1, device=cpu) = onnx::Add[onnx_name=\"/Add_1\"](%/Add_output_0, %/Constant_1_output_0), scope: __main__.AddConst:: # /var/folders/vw/rrzy8ptj6k10mvc6tf4170gw0000gq/T/ipykernel_45008/2052299685.py:9:0\n",
      "  return (%7)\n",
      "\n",
      "================ Diagnostic Run torch.onnx.export version 2.0.1 ================\n",
      "verbose: False, log level: Level.ERROR\n",
      "======================= 0 NONE 0 NOTE 0 WARNING 0 ERROR ========================\n",
      "\n"
     ]
    }
   ],
   "source": [
    "model = AddConst()\n",
    "x = torch.randn(3, 4)\n",
    "torch.onnx.export(model, x, \"add_const.onnx\", verbose=True)"
   ],
   "metadata": {
    "collapsed": false,
    "ExecuteTime": {
     "end_time": "2023-06-17T14:25:34.945167Z",
     "start_time": "2023-06-17T14:25:34.933756Z"
    }
   }
  },
  {
   "cell_type": "code",
   "execution_count": 79,
   "outputs": [
    {
     "data": {
      "text/plain": "5"
     },
     "execution_count": 79,
     "metadata": {},
     "output_type": "execute_result"
    }
   ],
   "source": [
    "net = onnx.load(\"add_const.onnx\")\n",
    "len(net.graph.node)"
   ],
   "metadata": {
    "collapsed": false,
    "ExecuteTime": {
     "end_time": "2023-06-17T14:25:36.946585Z",
     "start_time": "2023-06-17T14:25:36.942451Z"
    }
   }
  },
  {
   "cell_type": "code",
   "execution_count": 30,
   "outputs": [],
   "source": [
    "import numpy as np"
   ],
   "metadata": {
    "collapsed": false,
    "ExecuteTime": {
     "end_time": "2023-06-17T11:03:54.047442Z",
     "start_time": "2023-06-17T11:03:54.042749Z"
    }
   }
  },
  {
   "cell_type": "code",
   "execution_count": 80,
   "outputs": [
    {
     "data": {
      "text/plain": "array([], dtype=float32)"
     },
     "execution_count": 80,
     "metadata": {},
     "output_type": "execute_result"
    }
   ],
   "source": [
    "np.frombuffer(net.graph.node[0].attribute[0].t.raw_data, dtype=np.float32)"
   ],
   "metadata": {
    "collapsed": false,
    "ExecuteTime": {
     "end_time": "2023-06-17T14:25:39.229463Z",
     "start_time": "2023-06-17T14:25:39.222160Z"
    }
   }
  },
  {
   "cell_type": "code",
   "execution_count": 39,
   "outputs": [
    {
     "data": {
      "text/plain": "[]"
     },
     "execution_count": 39,
     "metadata": {},
     "output_type": "execute_result"
    }
   ],
   "source": [
    "net.graph.node[0].attribute[0].t.dims"
   ],
   "metadata": {
    "collapsed": false,
    "ExecuteTime": {
     "end_time": "2023-06-17T13:11:38.356538Z",
     "start_time": "2023-06-17T13:11:38.352803Z"
    }
   }
  },
  {
   "cell_type": "code",
   "execution_count": 45,
   "outputs": [
    {
     "data": {
      "text/plain": "['onnx::Add_0', '/Constant_output_0']"
     },
     "execution_count": 45,
     "metadata": {},
     "output_type": "execute_result"
    }
   ],
   "source": [
    "net.graph.node[1].input"
   ],
   "metadata": {
    "collapsed": false,
    "ExecuteTime": {
     "end_time": "2023-06-17T13:12:11.428702Z",
     "start_time": "2023-06-17T13:12:11.425371Z"
    }
   }
  },
  {
   "cell_type": "code",
   "execution_count": 57,
   "outputs": [
    {
     "data": {
      "text/plain": "input: \"onnx::Add_0\"\ninput: \"/Constant_output_0\"\noutput: \"2\"\nname: \"/Add\"\nop_type: \"Add\"\ndoc_string: \"/var/folders/vw/rrzy8ptj6k10mvc6tf4170gw0000gq/T/ipykernel_45008/2842780031.py(7): forward\\n/Users/benjamintenmann/Library/Caches/pypoetry/virtualenvs/ggml-conversion-fEb3rMr2-py3.11/lib/python3.11/site-packages/torch/nn/modules/module.py(1488): _slow_forward\\n/Users/benjamintenmann/Library/Caches/pypoetry/virtualenvs/ggml-conversion-fEb3rMr2-py3.11/lib/python3.11/site-packages/torch/nn/modules/module.py(1501): _call_impl\\n/Users/benjamintenmann/Library/Caches/pypoetry/virtualenvs/ggml-conversion-fEb3rMr2-py3.11/lib/python3.11/site-packages/torch/jit/_trace.py(118): wrapper\\n/Users/benjamintenmann/Library/Caches/pypoetry/virtualenvs/ggml-conversion-fEb3rMr2-py3.11/lib/python3.11/site-packages/torch/jit/_trace.py(127): forward\\n/Users/benjamintenmann/Library/Caches/pypoetry/virtualenvs/ggml-conversion-fEb3rMr2-py3.11/lib/python3.11/site-packages/torch/nn/modules/module.py(1501): _call_impl\\n/Users/benjamintenmann/Library/Caches/pypoetry/virtualenvs/ggml-conversion-fEb3rMr2-py3.11/lib/python3.11/site-packages/torch/jit/_trace.py(1268): _get_trace_graph\\n/Users/benjamintenmann/Library/Caches/pypoetry/virtualenvs/ggml-conversion-fEb3rMr2-py3.11/lib/python3.11/site-packages/torch/onnx/utils.py(893): _trace_and_get_graph_from_model\\n/Users/benjamintenmann/Library/Caches/pypoetry/virtualenvs/ggml-conversion-fEb3rMr2-py3.11/lib/python3.11/site-packages/torch/onnx/utils.py(989): _create_jit_graph\\n/Users/benjamintenmann/Library/Caches/pypoetry/virtualenvs/ggml-conversion-fEb3rMr2-py3.11/lib/python3.11/site-packages/torch/onnx/utils.py(1113): _model_to_graph\\n/Users/benjamintenmann/Library/Caches/pypoetry/virtualenvs/ggml-conversion-fEb3rMr2-py3.11/lib/python3.11/site-packages/torch/onnx/utils.py(1548): _export\\n/Users/benjamintenmann/Library/Caches/pypoetry/virtualenvs/ggml-conversion-fEb3rMr2-py3.11/lib/python3.11/site-packages/torch/onnx/utils.py(506): export\\n/var/folders/vw/rrzy8ptj6k10mvc6tf4170gw0000gq/T/ipykernel_45008/406424582.py(3): <module>\\n/Users/benjamintenmann/Library/Caches/pypoetry/virtualenvs/ggml-conversion-fEb3rMr2-py3.11/lib/python3.11/site-packages/IPython/core/interactiveshell.py(3508): run_code\\n/Users/benjamintenmann/Library/Caches/pypoetry/virtualenvs/ggml-conversion-fEb3rMr2-py3.11/lib/python3.11/site-packages/IPython/core/interactiveshell.py(3448): run_ast_nodes\\n/Users/benjamintenmann/Library/Caches/pypoetry/virtualenvs/ggml-conversion-fEb3rMr2-py3.11/lib/python3.11/site-packages/IPython/core/interactiveshell.py(3269): run_cell_async\\n/Users/benjamintenmann/Library/Caches/pypoetry/virtualenvs/ggml-conversion-fEb3rMr2-py3.11/lib/python3.11/site-packages/IPython/core/async_helpers.py(129): _pseudo_sync_runner\\n/Users/benjamintenmann/Library/Caches/pypoetry/virtualenvs/ggml-conversion-fEb3rMr2-py3.11/lib/python3.11/site-packages/IPython/core/interactiveshell.py(3064): _run_cell\\n/Users/benjamintenmann/Library/Caches/pypoetry/virtualenvs/ggml-conversion-fEb3rMr2-py3.11/lib/python3.11/site-packages/IPython/core/interactiveshell.py(3009): run_cell\\n/Users/benjamintenmann/Library/Caches/pypoetry/virtualenvs/ggml-conversion-fEb3rMr2-py3.11/lib/python3.11/site-packages/ipykernel/zmqshell.py(540): run_cell\\n/Users/benjamintenmann/Library/Caches/pypoetry/virtualenvs/ggml-conversion-fEb3rMr2-py3.11/lib/python3.11/site-packages/ipykernel/ipkernel.py(422): do_execute\\n/Users/benjamintenmann/Library/Caches/pypoetry/virtualenvs/ggml-conversion-fEb3rMr2-py3.11/lib/python3.11/site-packages/ipykernel/kernelbase.py(729): execute_request\\n/Users/benjamintenmann/Library/Caches/pypoetry/virtualenvs/ggml-conversion-fEb3rMr2-py3.11/lib/python3.11/site-packages/ipykernel/kernelbase.py(409): dispatch_shell\\n/Users/benjamintenmann/Library/Caches/pypoetry/virtualenvs/ggml-conversion-fEb3rMr2-py3.11/lib/python3.11/site-packages/ipykernel/kernelbase.py(502): process_one\\n/Users/benjamintenmann/Library/Caches/pypoetry/virtualenvs/ggml-conversion-fEb3rMr2-py3.11/lib/python3.11/site-packages/ipykernel/kernelbase.py(513): dispatch_queue\\n/usr/local/Cellar/python@3.11/3.11.4/Frameworks/Python.framework/Versions/3.11/lib/python3.11/asyncio/events.py(80): _run\\n/usr/local/Cellar/python@3.11/3.11.4/Frameworks/Python.framework/Versions/3.11/lib/python3.11/asyncio/base_events.py(1922): _run_once\\n/usr/local/Cellar/python@3.11/3.11.4/Frameworks/Python.framework/Versions/3.11/lib/python3.11/asyncio/base_events.py(607): run_forever\\n/Users/benjamintenmann/Library/Caches/pypoetry/virtualenvs/ggml-conversion-fEb3rMr2-py3.11/lib/python3.11/site-packages/tornado/platform/asyncio.py(195): start\\n/Users/benjamintenmann/Library/Caches/pypoetry/virtualenvs/ggml-conversion-fEb3rMr2-py3.11/lib/python3.11/site-packages/ipykernel/kernelapp.py(725): start\\n/Users/benjamintenmann/Library/Caches/pypoetry/virtualenvs/ggml-conversion-fEb3rMr2-py3.11/lib/python3.11/site-packages/traitlets/config/application.py(1043): launch_instance\\n/Users/benjamintenmann/Library/Caches/pypoetry/virtualenvs/ggml-conversion-fEb3rMr2-py3.11/lib/python3.11/site-packages/ipykernel_launcher.py(17): <module>\\n<frozen runpy>(88): _run_code\\n<frozen runpy>(198): _run_module_as_main\\n\""
     },
     "execution_count": 57,
     "metadata": {},
     "output_type": "execute_result"
    }
   ],
   "source": [
    "net.graph.node[1]"
   ],
   "metadata": {
    "collapsed": false,
    "ExecuteTime": {
     "end_time": "2023-06-17T13:14:39.013511Z",
     "start_time": "2023-06-17T13:14:39.009716Z"
    }
   }
  },
  {
   "cell_type": "code",
   "execution_count": 75,
   "outputs": [
    {
     "data": {
      "text/plain": "google._upb._message.RepeatedCompositeContainer"
     },
     "execution_count": 75,
     "metadata": {},
     "output_type": "execute_result"
    }
   ],
   "source": [
    "net.graph.initializer"
   ],
   "metadata": {
    "collapsed": false,
    "ExecuteTime": {
     "end_time": "2023-06-17T14:11:06.833082Z",
     "start_time": "2023-06-17T14:11:06.827678Z"
    }
   }
  },
  {
   "cell_type": "code",
   "execution_count": 71,
   "outputs": [
    {
     "data": {
      "text/plain": "elem_type: 1\nshape {\n  dim {\n    dim_value: 3\n  }\n  dim {\n    dim_value: 4\n  }\n}"
     },
     "execution_count": 71,
     "metadata": {},
     "output_type": "execute_result"
    }
   ],
   "source": [
    "net.graph.input[0].type.tensor_type"
   ],
   "metadata": {
    "collapsed": false,
    "ExecuteTime": {
     "end_time": "2023-06-17T14:10:00.225188Z",
     "start_time": "2023-06-17T14:10:00.221370Z"
    }
   }
  },
  {
   "cell_type": "code",
   "execution_count": 89,
   "outputs": [
    {
     "data": {
      "text/plain": "[]"
     },
     "execution_count": 89,
     "metadata": {},
     "output_type": "execute_result"
    }
   ],
   "source": [
    "net.graph.node[-4].attribute[0].t.dims"
   ],
   "metadata": {
    "collapsed": false,
    "ExecuteTime": {
     "end_time": "2023-06-17T14:28:19.145809Z",
     "start_time": "2023-06-17T14:28:19.142015Z"
    }
   }
  },
  {
   "cell_type": "code",
   "execution_count": 86,
   "outputs": [
    {
     "data": {
      "text/plain": "[4]"
     },
     "execution_count": 86,
     "metadata": {},
     "output_type": "execute_result"
    }
   ],
   "source": [
    "net.graph.node[-2].attribute[0].t.dims"
   ],
   "metadata": {
    "collapsed": false,
    "ExecuteTime": {
     "end_time": "2023-06-17T14:27:49.412762Z",
     "start_time": "2023-06-17T14:27:49.409506Z"
    }
   }
  }
 ],
 "metadata": {
  "kernelspec": {
   "display_name": "Python 3",
   "language": "python",
   "name": "python3"
  },
  "language_info": {
   "codemirror_mode": {
    "name": "ipython",
    "version": 2
   },
   "file_extension": ".py",
   "mimetype": "text/x-python",
   "name": "python",
   "nbconvert_exporter": "python",
   "pygments_lexer": "ipython2",
   "version": "2.7.6"
  }
 },
 "nbformat": 4,
 "nbformat_minor": 0
}
